{
 "cells": [
  {
   "cell_type": "code",
   "execution_count": null,
   "id": "english-sociology",
   "metadata": {},
   "outputs": [],
   "source": [
    "! pip3 install --user install fuzzywuzzy PyShp geopandas rtree matplotlib cartopy cython cartopy python-Levenshtein"
   ]
  },
  {
   "cell_type": "code",
   "execution_count": 1,
   "id": "fundamental-brain",
   "metadata": {},
   "outputs": [],
   "source": [
    "import pandas as pd\n",
    "import io\n",
    "import requests\n",
    "from fuzzywuzzy import process, fuzz\n",
    "import shapefile\n",
    "import zipfile\n",
    "import json\n",
    "import matplotlib.pyplot as plt\n",
    "import geopandas as gpd\n",
    "from cartopy import crs as ccrs\n",
    "import numpy as np"
   ]
  },
  {
   "cell_type": "code",
   "execution_count": 2,
   "id": "suspended-casino",
   "metadata": {},
   "outputs": [],
   "source": [
    "# read intermediate canonical facilities into dataframe\n",
    "intermediate_url=\"https://raw.githubusercontent.com/PTDP/data/main/intermediate_data/geocoded_company_facilities.csv\"\n",
    "intermediate = pd.read_csv(intermediate_url)\n",
    "\n",
    "hifld_url=\"https://opendata.arcgis.com/datasets/2d6109d4127d458eaf0958e4c5296b67_0.csv?outSR=%7B%22latestWkid%22%3A3857%2C%22wkid%22%3A102100%7D\"\n",
    "hifld=pd.read_csv(hifld_url)"
   ]
  },
  {
   "cell_type": "code",
   "execution_count": 3,
   "id": "saved-chicken",
   "metadata": {},
   "outputs": [],
   "source": [
    "# Normalize facility google name\n",
    "\n",
    "# uppercase\n",
    "# remove entities before dash IL DOC - BIG MUDDY RIVER CORRECTIONAL CENTER\n",
    "\n",
    "def clean_facility_internal(str):\n",
    "    split = str.split(\"-\")\n",
    "    if (len(split) > 1):\n",
    "        return split[1]\n",
    "    return str\n",
    "\n",
    "intermediate['googlePlaceName'] = intermediate['googlePlaceName'].str.upper();\n",
    "intermediate['facilityInternal'] = intermediate['facilityInternal'].apply(lambda x: clean_facility_internal(x))"
   ]
  },
  {
   "cell_type": "code",
   "execution_count": 4,
   "id": "geological-settle",
   "metadata": {},
   "outputs": [
    {
     "name": "stdout",
     "output_type": "stream",
     "text": [
      "CULLMAN COUNTY DETENTION CENTER\n"
     ]
    }
   ],
   "source": [
    "#ratios = process.extract(intermediate['googlePlaceName'][0],hifld['NAME'])\n",
    "# def fuzzy_matches(googlePlaceName):\n",
    "    \n",
    "\n",
    "# highest = process.extractOne(intermediate['googlePlaceName'][0],hifld['NAME'])\n",
    "# print(highest)\n",
    "\n",
    "# goal - \n",
    "\n",
    "# geosptial join\n",
    "\n",
    "print(hifld['NAME'][1936])"
   ]
  },
  {
   "cell_type": "code",
   "execution_count": 5,
   "id": "residential-penetration",
   "metadata": {},
   "outputs": [
    {
     "name": "stdout",
     "output_type": "stream",
     "text": [
      "Downloading shapefile...\n",
      "Done\n"
     ]
    }
   ],
   "source": [
    "# Output GeoJSON Data\n",
    "hifld_shp_url=\"https://opendata.arcgis.com/datasets/2d6109d4127d458eaf0958e4c5296b67_0.zip?outSR=%7B%22latestWkid%22%3A3857%2C%22wkid%22%3A102100%7D\"\n",
    "local_path = 'hifld.zip'\n",
    "\n",
    "print('Downloading shapefile...')\n",
    "r = requests.get(hifld_shp_url)\n",
    "\n",
    "with open(local_path,'wb') as out: ## Open temporary file as bytes\n",
    "    out.write(io.BytesIO(r.content).read())                ## Read bytes into file\n",
    "\n",
    "print(\"Done\")"
   ]
  },
  {
   "cell_type": "code",
   "execution_count": 45,
   "id": "systematic-showcase",
   "metadata": {},
   "outputs": [],
   "source": [
    "#print(r.content)\n",
    "# hifld_geojson = shapefile.Reader(local_path + 'Prison_Boundaries.dbf').__geo_interface__\n",
    "gdf_intermediate = gpd.GeoDataFrame(intermediate, geometry=gpd.points_from_xy(intermediate.longitude, intermediate.latitude))\n",
    "\n",
    "# remove null\n",
    "gdf_intermediate = gdf_intermediate[gdf_intermediate.is_valid]\n",
    "gdf_intermediate.crs = \"EPSG:4326\"\n",
    "gdf_intermediate = gdf_intermediate.to_crs(\"EPSG:3857\")\n",
    "\n",
    "# buffer in miles around each geocoded point\n",
    "buffer_length_in_meters = (.1 * 1000) * 1.60934\n",
    "gdf_intermediate['geometry'] = gdf_intermediate.geometry.buffer(buffer_length_in_meters)\n",
    "\n",
    "def fuzz_token (arr):\n",
    "    print(arr)\n",
    "    return fuzz.token_set_ratio(arr[0], arr[1])\n",
    "\n",
    "\n",
    "gdf_hifld = gpd.read_file(local_path)\n",
    "\n",
    "sjoined = gpd.sjoin(gdf_intermediate, gdf_hifld)\n",
    "\n",
    "sjoined[\"g_name_sim\"] = sjoined.apply(lambda x: fuzz.token_set_ratio(x.googlePlaceName, x.NAME), axis=1)\n",
    "sjoined[\"internal_name_sim\"] = sjoined.apply(lambda x: fuzz.token_set_ratio(x.facilityInternal, x.NAME), axis=1)\n",
    "\n",
    "\n",
    "def make_column(df):\n",
    "    return pd.Series(np.random.randn(len(df['g_name_sim'])), index=df.index)\n",
    "\n",
    "sjoined['max_name_similarity'] = sjoined.apply(lambda x: max(x.g_name_sim, x.internal_name_sim), axis=1)\n",
    "sjoined['hidden'] = sjoined.apply(lambda x: x.max_name_similarity < 75 or (pd.isnull(x.FACILITYID)), axis=1)\n",
    "\n",
    "sjoined['HIFLDID'] = \"\"\n",
    "sjoined['name_override'] =  \"\"\n",
    "sjoined['jurisdiction_override'] = \"\"\n",
    "sjoined['address_override'] = \"\"\n",
    "sjoined['longitude_override'] = \"\"\n",
    "sjoined['latitude_overrride'] = \"\"\n",
    "sjoined['state_override'] = \"\"\n",
    "sjoined['county_override'] = \"\"\n",
    "sjoined['countyFIPS_override'] = \"\"\n",
    "sjoined['HIFLDID_override'] = \"\"\n",
    "sjoined['UCLACovid19ID_override'] = \"\"\n",
    "sjoined['hidden_override'] = \"\"\n",
    "\n",
    "duplicated = sjoined[sjoined.duplicated('uid')]\n",
    "duplicated.head()\n",
    "\n",
    "sjoined_dedupe = sjoined.sort_values('max_name_similarity').drop_duplicates('uid', keep='last')\n",
    "\n",
    "sjoined_dedupe_m = pd\\\n",
    "    .concat([sjoined_dedupe, gdf_intermediate])\\\n",
    "    .drop_duplicates('uid')\\\n",
    "    .reset_index(drop=True)\n",
    "\n",
    "sjoined_dedupe_m['HIFLDID'] = sjoined_dedupe_m['FACILITYID']\n",
    "\n",
    "sjoined_dedupe_m.drop(inplace=True, columns=['geometry','index_right','FID','FACILITYID','NAME','ADDRESS','CITY','STATE','ZIP','ZIP4','TELEPHONE','TYPE','STATUS','POPULATION','COUNTY','COUNTYFIPS','COUNTRY','NAICS_CODE','NAICS_DESC','SOURCE','SOURCEDATE','VAL_METHOD','VAL_DATE','WEBSITE','SECURELVL','CAPACITY','SHAPE_Leng','SHAPE_Le_1','SHAPE_Area'])\n",
    "\n",
    "sjoined_dedupe_m.to_csv('joined.csv', encoding=\"utf-8\", index=False)"
   ]
  },
  {
   "cell_type": "code",
   "execution_count": null,
   "id": "musical-hudson",
   "metadata": {},
   "outputs": [],
   "source": []
  },
  {
   "cell_type": "code",
   "execution_count": null,
   "id": "indonesian-forest",
   "metadata": {},
   "outputs": [],
   "source": []
  },
  {
   "cell_type": "code",
   "execution_count": null,
   "id": "latest-spell",
   "metadata": {},
   "outputs": [],
   "source": []
  },
  {
   "cell_type": "code",
   "execution_count": null,
   "id": "typical-american",
   "metadata": {},
   "outputs": [],
   "source": []
  }
 ],
 "metadata": {
  "kernelspec": {
   "display_name": "Python 3",
   "language": "python",
   "name": "python3"
  },
  "language_info": {
   "codemirror_mode": {
    "name": "ipython",
    "version": 3
   },
   "file_extension": ".py",
   "mimetype": "text/x-python",
   "name": "python",
   "nbconvert_exporter": "python",
   "pygments_lexer": "ipython3",
   "version": "3.8.5"
  }
 },
 "nbformat": 4,
 "nbformat_minor": 5
}
