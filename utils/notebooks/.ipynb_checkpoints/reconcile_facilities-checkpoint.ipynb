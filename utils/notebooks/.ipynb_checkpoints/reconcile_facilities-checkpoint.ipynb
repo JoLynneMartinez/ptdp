{
 "cells": [
  {
   "cell_type": "code",
   "execution_count": 4,
   "id": "english-sociology",
   "metadata": {},
   "outputs": [
    {
     "name": "stdout",
     "output_type": "stream",
     "text": [
      "Requirement already satisfied: install in /home/hsb/.local/lib/python3.8/site-packages (1.3.4)\n",
      "Requirement already satisfied: fuzzywuzzy in /home/hsb/.local/lib/python3.8/site-packages (0.18.0)\n",
      "Requirement already satisfied: PyShp in /home/hsb/.local/lib/python3.8/site-packages (2.1.3)\n",
      "Requirement already satisfied: geopandas in /home/hsb/.local/lib/python3.8/site-packages (0.9.0)\n",
      "Requirement already satisfied: rtree in /home/hsb/.local/lib/python3.8/site-packages (0.9.7)\n",
      "Requirement already satisfied: matplotlib in /home/hsb/.local/lib/python3.8/site-packages (3.3.4)\n",
      "Requirement already satisfied: cartopy in /home/hsb/.local/lib/python3.8/site-packages (0.18.0)\n",
      "Requirement already satisfied: cython in /home/hsb/.local/lib/python3.8/site-packages (0.29.22)\n",
      "Requirement already satisfied: python-Levenshtein in /home/hsb/.local/lib/python3.8/site-packages (0.12.2)\n",
      "Requirement already satisfied: shapely>=1.6 in /home/hsb/.local/lib/python3.8/site-packages (from geopandas) (1.7.1)\n",
      "Requirement already satisfied: pandas>=0.24.0 in /home/hsb/.local/lib/python3.8/site-packages (from geopandas) (1.2.3)\n",
      "Requirement already satisfied: fiona>=1.8 in /home/hsb/.local/lib/python3.8/site-packages (from geopandas) (1.8.18)\n",
      "Requirement already satisfied: pyproj>=2.2.0 in /home/hsb/.local/lib/python3.8/site-packages (from geopandas) (3.0.0.post1)\n",
      "Requirement already satisfied: pillow>=6.2.0 in /usr/lib/python3/dist-packages (from matplotlib) (7.0.0)\n",
      "Requirement already satisfied: cycler>=0.10 in /home/hsb/.local/lib/python3.8/site-packages (from matplotlib) (0.10.0)\n",
      "Requirement already satisfied: numpy>=1.15 in /home/hsb/.local/lib/python3.8/site-packages (from matplotlib) (1.20.1)\n",
      "Requirement already satisfied: python-dateutil>=2.1 in /usr/lib/python3/dist-packages (from matplotlib) (2.7.3)\n",
      "Requirement already satisfied: pyparsing!=2.0.4,!=2.1.2,!=2.1.6,>=2.0.3 in /home/hsb/.local/lib/python3.8/site-packages (from matplotlib) (2.4.7)\n",
      "Requirement already satisfied: kiwisolver>=1.0.1 in /home/hsb/.local/lib/python3.8/site-packages (from matplotlib) (1.3.1)\n",
      "Requirement already satisfied: six>=1.3.0 in /usr/lib/python3/dist-packages (from cartopy) (1.14.0)\n",
      "Requirement already satisfied: setuptools>=0.7.2 in /usr/lib/python3/dist-packages (from cartopy) (45.2.0)\n",
      "Requirement already satisfied: pytz>=2017.3 in /usr/lib/python3/dist-packages (from pandas>=0.24.0->geopandas) (2019.3)\n",
      "Requirement already satisfied: click<8,>=4.0 in /usr/lib/python3/dist-packages (from fiona>=1.8->geopandas) (7.0)\n",
      "Requirement already satisfied: click-plugins>=1.0 in /home/hsb/.local/lib/python3.8/site-packages (from fiona>=1.8->geopandas) (1.1.1)\n",
      "Requirement already satisfied: cligj>=0.5 in /home/hsb/.local/lib/python3.8/site-packages (from fiona>=1.8->geopandas) (0.7.1)\n",
      "Requirement already satisfied: attrs>=17 in /home/hsb/.local/lib/python3.8/site-packages (from fiona>=1.8->geopandas) (20.3.0)\n",
      "Requirement already satisfied: certifi in /usr/lib/python3/dist-packages (from fiona>=1.8->geopandas) (2019.11.28)\n",
      "Requirement already satisfied: munch in /home/hsb/.local/lib/python3.8/site-packages (from fiona>=1.8->geopandas) (2.5.0)\n"
     ]
    }
   ],
   "source": [
    "! pip3 install --user install fuzzywuzzy PyShp geopandas rtree matplotlib cartopy cython cartopy python-Levenshtein"
   ]
  },
  {
   "cell_type": "code",
   "execution_count": 16,
   "id": "fundamental-brain",
   "metadata": {},
   "outputs": [],
   "source": [
    "import pandas as pd\n",
    "import io\n",
    "import requests\n",
    "from fuzzywuzzy import process, fuzz\n",
    "import shapefile\n",
    "import zipfile\n",
    "import json\n",
    "import matplotlib.pyplot as plt\n",
    "import geopandas as gpd\n",
    "from cartopy import crs as ccrs\n",
    "import numpy as np"
   ]
  },
  {
   "cell_type": "code",
   "execution_count": 7,
   "id": "suspended-casino",
   "metadata": {},
   "outputs": [],
   "source": [
    "# read intermediate canonical facilities into dataframe\n",
    "intermediate_url=\"https://raw.githubusercontent.com/PTDP/data/main/intermediate_data/geocoded_company_facilities.csv\"\n",
    "intermediate = pd.read_csv(intermediate_url)\n",
    "\n",
    "hifld_url=\"https://opendata.arcgis.com/datasets/2d6109d4127d458eaf0958e4c5296b67_0.csv?outSR=%7B%22latestWkid%22%3A3857%2C%22wkid%22%3A102100%7D\"\n",
    "hifld=pd.read_csv(hifld_url)"
   ]
  },
  {
   "cell_type": "code",
   "execution_count": 8,
   "id": "saved-chicken",
   "metadata": {},
   "outputs": [],
   "source": [
    "# Normalize facility google name\n",
    "\n",
    "# uppercase\n",
    "# remove entities before dash IL DOC - BIG MUDDY RIVER CORRECTIONAL CENTER\n",
    "\n",
    "def clean_facility_internal(str):\n",
    "    split = str.split(\"-\")\n",
    "    if (len(split) > 1):\n",
    "        return split[1]\n",
    "    return str\n",
    "\n",
    "intermediate['googlePlaceName'] = intermediate['googlePlaceName'].str.upper();\n",
    "intermediate['facilityInternal'] = intermediate['facilityInternal'].apply(lambda x: clean_facility_internal(x))"
   ]
  },
  {
   "cell_type": "code",
   "execution_count": 9,
   "id": "geological-settle",
   "metadata": {},
   "outputs": [
    {
     "name": "stdout",
     "output_type": "stream",
     "text": [
      "CULLMAN COUNTY DETENTION CENTER\n"
     ]
    }
   ],
   "source": [
    "#ratios = process.extract(intermediate['googlePlaceName'][0],hifld['NAME'])\n",
    "# def fuzzy_matches(googlePlaceName):\n",
    "    \n",
    "\n",
    "# highest = process.extractOne(intermediate['googlePlaceName'][0],hifld['NAME'])\n",
    "# print(highest)\n",
    "\n",
    "# goal - \n",
    "\n",
    "# geosptial join\n",
    "\n",
    "print(hifld['NAME'][1936])"
   ]
  },
  {
   "cell_type": "code",
   "execution_count": 10,
   "id": "residential-penetration",
   "metadata": {},
   "outputs": [
    {
     "name": "stdout",
     "output_type": "stream",
     "text": [
      "Downloading shapefile...\n",
      "Done\n"
     ]
    }
   ],
   "source": [
    "# Output GeoJSON Data\n",
    "hifld_shp_url=\"https://opendata.arcgis.com/datasets/2d6109d4127d458eaf0958e4c5296b67_0.zip?outSR=%7B%22latestWkid%22%3A3857%2C%22wkid%22%3A102100%7D\"\n",
    "local_path = 'hifld.zip'\n",
    "\n",
    "print('Downloading shapefile...')\n",
    "r = requests.get(hifld_shp_url)\n",
    "\n",
    "with open(local_path,'wb') as out: ## Open temporary file as bytes\n",
    "    out.write(io.BytesIO(r.content).read())                ## Read bytes into file\n",
    "\n",
    "print(\"Done\")"
   ]
  },
  {
   "cell_type": "code",
   "execution_count": 23,
   "id": "systematic-showcase",
   "metadata": {},
   "outputs": [],
   "source": [
    "#print(r.content)\n",
    "# hifld_geojson = shapefile.Reader(local_path + 'Prison_Boundaries.dbf').__geo_interface__\n",
    "gdf_intermediate = gpd.GeoDataFrame(intermediate, geometry=gpd.points_from_xy(intermediate.longitude, intermediate.latitude))\n",
    "\n",
    "# remove null\n",
    "gdf_intermediate = gdf_intermediate[gdf_intermediate.is_valid]\n",
    "gdf_intermediate.crs = \"EPSG:4326\"\n",
    "gdf_intermediate = gdf_intermediate.to_crs(\"EPSG:3857\")\n",
    "\n",
    "# buffer in miles around each geocoded point\n",
    "buffer_length_in_meters = (.5 * 1000) * 1.60934\n",
    "gdf_intermediate['geometry'] = gdf_intermediate.geometry.buffer(buffer_length_in_meters)\n",
    "\n",
    "def fuzz_token (arr):\n",
    "    print(arr)\n",
    "    return fuzz.token_set_ratio(arr[0], arr[1])\n",
    "\n",
    "\n",
    "gdf_hifld = gpd.read_file(local_path)\n",
    "\n",
    "sjoined_facilities = gpd.sjoin(gdf_intermediate, gdf_hifld)\n",
    "\n",
    "sjoined_facilities[\"g_name_sim\"] = sjoined_facilities.apply(lambda x: fuzz.token_set_ratio(x.googlePlaceName, x.NAME), axis=1)\n",
    "sjoined_facilities[\"internal_name_sim\"] = sjoined_facilities.apply(lambda x: fuzz.token_set_ratio(x.facilityInternal, x.NAME), axis=1)\n",
    "\n",
    "\n",
    "def make_column(df):\n",
    "    return pd.Series(np.random.randn(len(df['g_name_sim'])), index=df.index)\n",
    "\n",
    "sjoined_facilities['name_override'] =  \"\"\n",
    "sjoined_facilities['jurisdiction_override'] = \"\"\n",
    "sjoined_facilities['address_override'] = \"\"\n",
    "sjoined_facilities['longitude_override'] = \"\"\n",
    "sjoined_facilities['latitude_overrride'] = \"\"\n",
    "sjoined_facilities['state_override'] = \"\"\n",
    "sjoined_facilities['county_override'] = \"\"\n",
    "sjoined_facilities['countyFIPS_override'] = \"\"\n",
    "sjoined_facilities['HIFLDID_override'] = \"\"\n",
    "sjoined_facilities['UCLACovid19ID_override'] = \"\"\n",
    "sjoined_facilities['hidden_override'] = \"\"\n",
    "\n",
    "# keep only entry with highest google name similarity\n",
    "sjoined_facilities.sort_values('g_name_sim').drop_duplicates('id', keep='last')\n",
    "sjoined_facilities.drop('geometry', axis=1).to_csv(r'joined.csv')"
   ]
  },
  {
   "cell_type": "code",
   "execution_count": null,
   "id": "musical-hudson",
   "metadata": {},
   "outputs": [],
   "source": []
  },
  {
   "cell_type": "code",
   "execution_count": null,
   "id": "indonesian-forest",
   "metadata": {},
   "outputs": [],
   "source": []
  },
  {
   "cell_type": "code",
   "execution_count": null,
   "id": "latest-spell",
   "metadata": {},
   "outputs": [],
   "source": []
  },
  {
   "cell_type": "code",
   "execution_count": null,
   "id": "typical-american",
   "metadata": {},
   "outputs": [],
   "source": []
  }
 ],
 "metadata": {
  "kernelspec": {
   "display_name": "Python 3",
   "language": "python",
   "name": "python3"
  },
  "language_info": {
   "codemirror_mode": {
    "name": "ipython",
    "version": 3
   },
   "file_extension": ".py",
   "mimetype": "text/x-python",
   "name": "python",
   "nbconvert_exporter": "python",
   "pygments_lexer": "ipython3",
   "version": "3.8.5"
  }
 },
 "nbformat": 4,
 "nbformat_minor": 5
}
