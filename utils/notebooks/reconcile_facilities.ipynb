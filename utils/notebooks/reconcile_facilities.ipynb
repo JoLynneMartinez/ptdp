{
 "cells": [
  {
   "cell_type": "code",
   "execution_count": 34,
   "id": "english-sociology",
   "metadata": {},
   "outputs": [
    {
     "name": "stdout",
     "output_type": "stream",
     "text": [
      "Requirement already satisfied: install in /Users/hsb/Library/Python/3.7/lib/python/site-packages (1.3.4)\n",
      "Requirement already satisfied: fuzzywuzzy in /Users/hsb/Library/Python/3.7/lib/python/site-packages (0.18.0)\n",
      "Requirement already satisfied: PyShp in /Users/hsb/Library/Python/3.7/lib/python/site-packages (2.1.3)\n",
      "Requirement already satisfied: geopandas in /Users/hsb/Library/Python/3.7/lib/python/site-packages (0.9.0)\n",
      "Requirement already satisfied: rtree in /Users/hsb/Library/Python/3.7/lib/python/site-packages (0.9.7)\n",
      "Requirement already satisfied: matplotlib in /Users/hsb/Library/Python/3.7/lib/python/site-packages (3.3.4)\n",
      "Requirement already satisfied: pandas>=0.24.0 in /Users/hsb/work/buster/.eggs/pandas-1.0.3-py3.7-macosx-10.14-x86_64.egg (from geopandas) (1.0.3)\n",
      "Requirement already satisfied: pyproj>=2.2.0 in /Users/hsb/Library/Python/3.7/lib/python/site-packages (from geopandas) (3.0.0.post1)\n",
      "Requirement already satisfied: shapely>=1.6 in /Users/hsb/Library/Python/3.7/lib/python/site-packages (from geopandas) (1.7.1)\n",
      "Requirement already satisfied: fiona>=1.8 in /Users/hsb/Library/Python/3.7/lib/python/site-packages (from geopandas) (1.8.18)\n",
      "Requirement already satisfied: pyparsing!=2.0.4,!=2.1.2,!=2.1.6,>=2.0.3 in /usr/local/lib/python3.7/site-packages (from matplotlib) (2.4.7)\n",
      "Requirement already satisfied: python-dateutil>=2.1 in /Users/hsb/work/buster/.eggs/python_dateutil-2.8.1-py3.7.egg (from matplotlib) (2.8.1)\n",
      "Requirement already satisfied: pillow>=6.2.0 in /Users/hsb/Library/Python/3.7/lib/python/site-packages (from matplotlib) (8.1.1)\n",
      "Requirement already satisfied: cycler>=0.10 in /Users/hsb/Library/Python/3.7/lib/python/site-packages (from matplotlib) (0.10.0)\n",
      "Requirement already satisfied: kiwisolver>=1.0.1 in /Users/hsb/Library/Python/3.7/lib/python/site-packages (from matplotlib) (1.3.1)\n",
      "Requirement already satisfied: numpy>=1.15 in /Users/hsb/work/buster/.eggs/numpy-1.18.3-py3.7-macosx-10.14-x86_64.egg (from matplotlib) (1.18.3)\n",
      "Requirement already satisfied: pytz>=2017.2 in /Users/hsb/work/buster/.eggs/pytz-2020.1-py3.7.egg (from pandas>=0.24.0->geopandas) (2020.1)\n",
      "Requirement already satisfied: certifi in /usr/local/lib/python3.7/site-packages (from pyproj>=2.2.0->geopandas) (2019.11.28)\n",
      "Requirement already satisfied: munch in /Users/hsb/Library/Python/3.7/lib/python/site-packages (from fiona>=1.8->geopandas) (2.5.0)\n",
      "Requirement already satisfied: cligj>=0.5 in /Users/hsb/Library/Python/3.7/lib/python/site-packages (from fiona>=1.8->geopandas) (0.7.1)\n",
      "Requirement already satisfied: click<8,>=4.0 in /Users/hsb/Library/Python/3.7/lib/python/site-packages (from fiona>=1.8->geopandas) (7.1.2)\n",
      "Requirement already satisfied: click-plugins>=1.0 in /Users/hsb/Library/Python/3.7/lib/python/site-packages (from fiona>=1.8->geopandas) (1.1.1)\n",
      "Requirement already satisfied: attrs>=17 in /Users/hsb/work/buster/.eggs/attrs-19.3.0-py3.7.egg (from fiona>=1.8->geopandas) (19.3.0)\n",
      "Requirement already satisfied: six>=1.7 in /Users/hsb/work/buster/.eggs/six-1.14.0-py3.7.egg (from fiona>=1.8->geopandas) (1.14.0)\n"
     ]
    }
   ],
   "source": [
    "! pip3 install --user install fuzzywuzzy PyShp geopandas rtree matplotlib"
   ]
  },
  {
   "cell_type": "code",
   "execution_count": 32,
   "id": "figured-circular",
   "metadata": {},
   "outputs": [
    {
     "ename": "ModuleNotFoundError",
     "evalue": "No module named 'geoplot'",
     "output_type": "error",
     "traceback": [
      "\u001b[0;31m---------------------------------------------------------------------------\u001b[0m",
      "\u001b[0;31mModuleNotFoundError\u001b[0m                       Traceback (most recent call last)",
      "\u001b[0;32m<ipython-input-32-c24b8772b682>\u001b[0m in \u001b[0;36m<module>\u001b[0;34m\u001b[0m\n\u001b[1;32m      7\u001b[0m \u001b[0;32mimport\u001b[0m \u001b[0mjson\u001b[0m\u001b[0;34m\u001b[0m\u001b[0;34m\u001b[0m\u001b[0m\n\u001b[1;32m      8\u001b[0m \u001b[0;32mimport\u001b[0m \u001b[0mgeopandas\u001b[0m \u001b[0;32mas\u001b[0m \u001b[0mgpd\u001b[0m\u001b[0;34m\u001b[0m\u001b[0;34m\u001b[0m\u001b[0m\n\u001b[0;32m----> 9\u001b[0;31m \u001b[0;32mimport\u001b[0m \u001b[0mgeoplot\u001b[0m\u001b[0;34m\u001b[0m\u001b[0;34m\u001b[0m\u001b[0m\n\u001b[0m",
      "\u001b[0;31mModuleNotFoundError\u001b[0m: No module named 'geoplot'"
     ]
    }
   ],
   "source": [
    "import pandas as pd\n",
    "import io\n",
    "import requests\n",
    "from fuzzywuzzy import process\n",
    "import shapefile\n",
    "import zipfile\n",
    "import json\n",
    "import geopandas as gpd\n",
    "import geoplot"
   ]
  },
  {
   "cell_type": "code",
   "execution_count": 3,
   "id": "suspended-casino",
   "metadata": {},
   "outputs": [],
   "source": [
    "# read intermediate canonical facilities into dataframe\n",
    "\n",
    "intermediate_url=\"https://raw.githubusercontent.com/PTDP/data/main/intermediate_data/intermediate_company_facilities.csv\"\n",
    "intermediate = pd.read_csv(intermediate_url)\n",
    "\n",
    "hifld_url=\"https://opendata.arcgis.com/datasets/2d6109d4127d458eaf0958e4c5296b67_0.csv?outSR=%7B%22latestWkid%22%3A3857%2C%22wkid%22%3A102100%7D\"\n",
    "hifld=pd.read_csv(hifld_url)"
   ]
  },
  {
   "cell_type": "code",
   "execution_count": 4,
   "id": "saved-chicken",
   "metadata": {},
   "outputs": [],
   "source": [
    "# Normalize facility google name\n",
    "\n",
    "# uppercase\n",
    "# remove entities before dash IL DOC - BIG MUDDY RIVER CORRECTIONAL CENTER\n",
    "\n",
    "intermediate['googlePlaceName'] = intermediate['googlePlaceName'].str.upper();\n",
    "\n",
    "#print(intermediate)\n",
    "#print(hifld)"
   ]
  },
  {
   "cell_type": "code",
   "execution_count": 5,
   "id": "geological-settle",
   "metadata": {},
   "outputs": [
    {
     "name": "stdout",
     "output_type": "stream",
     "text": [
      "CULLMAN COUNTY DETENTION CENTER\n"
     ]
    }
   ],
   "source": [
    "#ratios = process.extract(intermediate['googlePlaceName'][0],hifld['NAME'])\n",
    "# def fuzzy_matches(googlePlaceName):\n",
    "    \n",
    "\n",
    "# highest = process.extractOne(intermediate['googlePlaceName'][0],hifld['NAME'])\n",
    "# print(highest)\n",
    "\n",
    "# goal - \n",
    "\n",
    "# geosptial join\n",
    "\n",
    "print(hifld['NAME'][1936])"
   ]
  },
  {
   "cell_type": "code",
   "execution_count": 6,
   "id": "residential-penetration",
   "metadata": {},
   "outputs": [
    {
     "name": "stdout",
     "output_type": "stream",
     "text": [
      "Downloading shapefile...\n",
      "Done\n"
     ]
    }
   ],
   "source": [
    "# Output GeoJSON Data\n",
    "hifld_shp_url=\"https://opendata.arcgis.com/datasets/2d6109d4127d458eaf0958e4c5296b67_0.zip?outSR=%7B%22latestWkid%22%3A3857%2C%22wkid%22%3A102100%7D\"\n",
    "local_path = 'hifld.zip'\n",
    "\n",
    "print('Downloading shapefile...')\n",
    "r = requests.get(hifld_shp_url)\n",
    "\n",
    "with open(local_path,'wb') as out: ## Open temporary file as bytes\n",
    "    out.write(io.BytesIO(r.content).read())                ## Read bytes into file\n",
    "\n",
    "# z = zipfile.ZipFile(io.BytesIO(r.content))\n",
    "# z.write(local_path)\n",
    "# z.close()\n",
    "print(\"Done\")\n",
    "#z.extractall(path=local_path) # extract to folder\n",
    "#filenames = [y for y in sorted(z.namelist()) for ending in ['dbf', 'prj', 'shp', 'shx'] if y.endswith(ending)] \n",
    "#print(filenames)"
   ]
  },
  {
   "cell_type": "code",
   "execution_count": 35,
   "id": "systematic-showcase",
   "metadata": {},
   "outputs": [
    {
     "name": "stdout",
     "output_type": "stream",
     "text": [
      "epsg:3857\n"
     ]
    },
    {
     "data": {
      "text/plain": [
       "<AxesSubplot:>"
      ]
     },
     "execution_count": 35,
     "metadata": {},
     "output_type": "execute_result"
    },
    {
     "data": {
      "image/png": "[encoded data removed]",
      "text/plain": [
       "<Figure size 432x288 with 1 Axes>"
      ]
     },
     "metadata": {
      "needs_background": "light"
     },
     "output_type": "display_data"
    }
   ],
   "source": [
    "#print(r.content)\n",
    "# hifld_geojson = shapefile.Reader(local_path + 'Prison_Boundaries.dbf').__geo_interface__\n",
    "gdf_intermediate = gpd.GeoDataFrame(intermediate, geometry=gpd.points_from_xy(intermediate.longitude, intermediate.latitude))\n",
    "\n",
    "# remove null\n",
    "gdf_intermediate = gdf_intermediate[gdf_intermediate.is_valid]\n",
    "# gdf_intermediate = gdf_intermediate.to_crs(\"EPSG:3857\")\n",
    "# gdf_intermediate.to_crs()\n",
    "\n",
    "# ax = gdf_intermediate.plot()\n",
    "\n",
    "gdf_hifld = gpd.read_file(local_path)\n",
    "\n",
    "# sjoined_facilities = gpd.sjoin(gdf_intermediate, gdf_hifld)\n",
    "# sjoined_facilities.head()\n",
    "\n",
    "gdf_hifld.head()\n",
    "print(gdf_hifld.crs)\n",
    "gdf_hifld.plot()\n"
   ]
  },
  {
   "cell_type": "code",
   "execution_count": null,
   "id": "indonesian-forest",
   "metadata": {},
   "outputs": [],
   "source": []
  }
 ],
 "metadata": {
  "kernelspec": {
   "display_name": "Python 3",
   "language": "python",
   "name": "python3"
  },
  "language_info": {
   "codemirror_mode": {
    "name": "ipython",
    "version": 3
   },
   "file_extension": ".py",
   "mimetype": "text/x-python",
   "name": "python",
   "nbconvert_exporter": "python",
   "pygments_lexer": "ipython3",
   "version": "3.7.7"
  }
 },
 "nbformat": 4,
 "nbformat_minor": 5
}
